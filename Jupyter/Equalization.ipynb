{
 "cells": [
  {
   "cell_type": "code",
   "execution_count": null,
   "metadata": {},
   "outputs": [],
   "source": []
  },
  {
   "cell_type": "markdown",
   "metadata": {},
   "source": [
    "# Equalização"
   ]
  },
  {
   "cell_type": "markdown",
   "metadata": {},
   "source": [
    "Neste notebook iremos explorar os próximos blocos na cadeia de algoritmos DSP que são dois equalizadores lineares que compensam os efeitos da dispersão cromática (CD) e da dispersão do modo de polarização (PMD) que são implementados na maioria dos receptores ópticos digitais coerentes.\n",
    "\n",
    "Em sistemas ópticos digitais coerentes, a compensação CD é completamente deixada para o domínio digital. As vantagens dessa escolha são diversas, como a redução das perdas de inserção causadas pelos módulos ópticos de compensação de CD e a facilitação do projeto e gerenciamento do sistema. \n",
    "\n",
    "#### Equalização estática - Compensação CD:\n",
    "\n",
    "Nos receptores ópticos digitais coerentes, o CD é compensado por filtros estáticos aplicados separadamente aos sinais das duas orientações de polarização. Como CD é praticamente invariante no tempo e independente da polarização, os filtros correspondentes às duas orientações de polarização possuem os mesmos coeficientes.\n",
    "\n",
    "#### Equalização adaptativa - Compensação PMD:\n",
    "\n",
    "Ao contrário da abordagem estática usada para compensação CD, a compensação PMD requer equalizadores que sejam capazes de atualizar adaptativamente seus coeficientes para rastrear variações na resposta de frequência do canal, causadas por perturbações mecânicas na geometria da fibra ou oscilações de temperatura. Além disso, como os canais de polarização se acoplam durante a transmissão por fibra, são necessárias arquiteturas com múltiplas entradas e múltiplas saídas (MIMO). Como benefício colateral, a equalização adaptativa também compensa efeitos lineares residuais, como o CD que sobrou do equalizador estático ou filtragem de banda estreita em interruptores seletivos de comprimento de onda."
   ]
  },
  {
   "cell_type": "markdown",
   "metadata": {},
   "source": [
    "### 5.1 Static Equalization"
   ]
  },
  {
   "cell_type": "markdown",
   "metadata": {},
   "source": [
    "O módulo de compensação CD é o primeiro a ser implementado no receptor após o front-end e a compensação de suas imperfeições. Como o CD se comporta bem no tempo e afeta igualmente ambas as orientações de polarização, os filtros de compensação CD são estáticos, ou seja, seus coeficientes não variam com o tempo. As questões mais relevantes da compensação CD estão relacionadas com a implementação do hardware e a sua complexidade e consumo de energia.\n",
    "\n",
    "A primeira tarefa para implementar filtros de compensação CD é dimensionar seus parâmetros levando em consideração as propriedades do canal óptico. Naturalmente, o design do equalizador está diretamente relacionado à propagação do atraso do canal. Uma aproximação para o *delay spread* do CD é dada por: \n",
    "\n",
    "$$\\Delta T=|D|L\\Delta\\lambda=2\\pi|\\beta_{2}|L\\Delta_{f}$$\n",
    "\n",
    "onde $D$ é o parâmetro de dispersão da velocidade de grupo (GVD), $L$ é o comprimento da fibra, $\\Delta \\lambda$ e $\\Delta f$ são as larguras de banda espectrais em comprimento de onda e frequência, e $\\beta_{2}$ é a segunda derivada da constante de propagação $\\beta$ em relação à frequência angular $\\omega$. Se o sinal recebido for amostrado a uma taxa de amostragem $T_{Sa}$ (período de amostragem), o *delay spread* no número de amostras é dado por:\n",
    "\n",
    "$$N_{\\mathrm{DS}}=\\left[\\frac{\\Delta T}{T_{S a}}\\right]=\\left[\\frac{2\\pi\\,|\\beta_{2}|L\\,\\Delta f}{T_{S a}}\\,\\right]$$\n",
    "\n",
    "Assumindo modelagem de pulso de Nyquist com largura de banda mínima ($\\Delta f\\,\\approx\\,R_{s}$) e uma taxa de sobreamostragem $M/K\\ (T_{S a}=K/(M R_{S}))$, então:\n",
    "\n",
    "$$N_{\\mathrm{DS}}\\approx\\left[2\\pi|\\beta_{2}|L R_{s}^{2}(M/K)\\right]$$\n",
    "\n",
    "Esperamos que o comprimento mínimo do equalizador CD seja proporcional ao $N_{DS}$, mas o valor exato depende de muitos aspectos, particularmente da forma do pulso e do filtro anti-aliasing. Uma expressão empírica para esse comprimento mínimo, validada para diversos formatos de pulso, é apresentado como:\n",
    "\n",
    "$$N_{\\mathrm{CD}}\\approx\\left[6.67|\\beta_{2}|L R_{s}^{2}(M/K)\\right]$$"
   ]
  },
  {
   "cell_type": "markdown",
   "metadata": {},
   "source": [
    "### 5.1.1 Equalização no domínio da frequência"
   ]
  }
 ],
 "metadata": {
  "language_info": {
   "name": "python"
  }
 },
 "nbformat": 4,
 "nbformat_minor": 2
}

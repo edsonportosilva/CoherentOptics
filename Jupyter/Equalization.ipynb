{
 "cells": [
  {
   "cell_type": "code",
   "execution_count": null,
   "metadata": {},
   "outputs": [],
   "source": []
  },
  {
   "cell_type": "markdown",
   "metadata": {},
   "source": [
    "# Equalização"
   ]
  },
  {
   "cell_type": "markdown",
   "metadata": {},
   "source": [
    "Neste notebook iremos explorar os próximos blocos na cadeia de algoritmos DSP que são dois equalizadores lineares que compensam os efeitos da dispersão cromática (CD) e da dispersão do modo de polarização (PMD).\n",
    "\n",
    "Antes do renascimento da detecção coerente, o CD em sistemas ópticos com modulação de intensidade e detecção direta era controlado pela inserção de módulos de compensação de dispersão óptica ao longo do link óptico. O manejo da CD foi um tema relevante e envolveu a interdependência da DC com efeitos não lineares. Em sistemas ópticos digitais coerentes, entretanto, a compensação CD é completamente deixada para o domínio digital. As vantagens dessa escolha são diversas, como a redução das perdas de inserção causadas pelos módulos ópticos de compensação de CD e a facilitação do projeto e gerenciamento do sistema.\n",
    "\n",
    "#### Equalização estática (compensação CD):\n",
    "\n",
    "Nos receptores ópticos digitais coerentes, o CD é compensado por filtros estáticos aplicados separadamente aos sinais das duas orientações de polarização. Como CD é praticamente invariante no tempo e independente da polarização, os filtros correspondentes às duas orientações de polarização possuem os mesmos coeficientes."
   ]
  }
 ],
 "metadata": {
  "language_info": {
   "name": "python"
  }
 },
 "nbformat": 4,
 "nbformat_minor": 2
}

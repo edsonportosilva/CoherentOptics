{
 "cells": [
  {
   "cell_type": "code",
   "execution_count": null,
   "metadata": {},
   "outputs": [],
   "source": []
  },
  {
   "cell_type": "markdown",
   "metadata": {},
   "source": [
    "# Front-End do Receptor Coerente"
   ]
  },
  {
   "cell_type": "markdown",
   "metadata": {},
   "source": [
    "Neste notebook iremos explorar um receptor óptico digital coerente típico. O front-end óptico é responsável por produzir uma saída que corresponde as componentes em fase e quadratura de duas orientações de polarização ortogonais que são representadas por correntes.\n",
    "\n",
    "Essas correntes são convertidas em tensão e digitalizados por um conjunto de ADCs, gerando os sinais digitais que são enviados para um segundo subsistema, composto por uma cadeia de algoritmos de processamento digital de sinais (DSP) que tem por objetivo realizar as devidas compensações impostas pelo canal. \n",
    "\n",
    "Iremos apresentar o front-end do receptor e discutir os algoritmos usados para corrigir suas imperfeições usando métodos de enquadramento e ortogonalização."
   ]
  },
  {
   "cell_type": "markdown",
   "metadata": {},
   "source": [
    "### 4.1 The Receiver Front-end"
   ]
  },
  {
   "cell_type": "markdown",
   "metadata": {},
   "source": [
    "Nos receptores ópticos, a conversão do sinal óptico em correntes elétricas é realizada pelo fotodetector. Fotodetectores são dispositivos optoeletrônicos que geram uma corrente elétrica $I_p(t)$ que é proporcional ao módulo quadrático do campo óptico de entrada $E_{in}(t)$\n",
    "\n",
    "$$I_{p}(t)=R|E_{i n}(t)|^{2}$$\n",
    "\n",
    "onde $R$ é uma constante de proporcionalidade chamada responsividade do fotodetector, medida em unidades de $A/W$. Em sistemas ópticos com modulação de intensidade e detecção direta, a conversão optoelétrica é realizada por um único fotodetector. Porém, um fotodetector não é capaz de recuperar a fase do campo de entrada.  Alternativamente, os receptores coerentes recorrem a estruturas mais elaboradas para recuperar a informação transmitida na amplitude, fase e polarização do sinal óptico.\n",
    "\n"
   ]
  }
 ],
 "metadata": {
  "language_info": {
   "name": "python"
  }
 },
 "nbformat": 4,
 "nbformat_minor": 2
}

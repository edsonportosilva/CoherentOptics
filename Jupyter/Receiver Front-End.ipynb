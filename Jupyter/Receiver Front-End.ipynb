{
 "cells": [
  {
   "cell_type": "code",
   "execution_count": null,
   "metadata": {},
   "outputs": [],
   "source": []
  },
  {
   "cell_type": "markdown",
   "metadata": {},
   "source": [
    "# Front-End do Receptor Coerente"
   ]
  },
  {
   "cell_type": "markdown",
   "metadata": {},
   "source": [
    "Neste notebook iremos explorar um receptor óptico digital coerente típico composto por um front-end óptico, amplificadores de transimpedância (TIAs) e conversores analógico-digitais (ADCs). O front-end óptico é responsável por produzir uma saída que corresponde as componentes em fase e quadratura de duas orientações de polarização ortogonais que são representadas por correntes.\n",
    "\n",
    "Essas correntes são convertidas em tensão por um conjunto de TIAs e digitalizados por um conjunto de ADCs, gerando os sinais digitais que são enviados para o segundo subsistema, composto por uma cadeia de algoritmos de processamento digital de sinais (DSP) que tem por objetivo realizar as devidas compensações impostas pelo canal. Neste notebook iremos apresentar o front-end do receptor e discutir os algoritmos usados para corrigir suas imperfeições usando métodos de enquadramento e ortogonalização."
   ]
  }
 ],
 "metadata": {
  "language_info": {
   "name": "python"
  }
 },
 "nbformat": 4,
 "nbformat_minor": 2
}

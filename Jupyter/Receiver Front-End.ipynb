{
 "cells": [
  {
   "cell_type": "code",
   "execution_count": null,
   "metadata": {},
   "outputs": [],
   "source": []
  },
  {
   "cell_type": "markdown",
   "metadata": {},
   "source": [
    "# Front-End do Receptor Coerente"
   ]
  },
  {
   "cell_type": "markdown",
   "metadata": {},
   "source": [
    "Neste notebook iremos explorar um receptor óptico digital coerente típico. O front-end óptico é responsável por produzir uma saída que corresponde as componentes em fase e quadratura de duas orientações de polarização ortogonais que são representadas por correntes elétricas.\n",
    "\n",
    "Essas correntes são convertidas em tensão e digitalizados por um conjunto de ADCs, gerando os sinais digitais que são enviados para um segundo subsistema, composto por uma cadeia de algoritmos de processamento digital de sinais (DSP) que tem por objetivo realizar as devidas compensações impostas pelo canal. \n",
    "\n",
    "Iremos apresentar o front-end do receptor e discutir os algoritmos usados para corrigir suas imperfeições usando métodos de enquadramento e ortogonalização."
   ]
  },
  {
   "cell_type": "markdown",
   "metadata": {},
   "source": [
    "### 4.1 The Receiver Front-end"
   ]
  },
  {
   "cell_type": "markdown",
   "metadata": {},
   "source": [
    "Nos receptores ópticos, a conversão do sinal óptico em correntes elétricas é realizada pelo fotodetector. Fotodetectores são dispositivos optoeletrônicos que geram uma corrente elétrica $I_p(t)$ que é proporcional ao módulo quadrático do campo óptico de entrada $E_{in}(t)$\n",
    "\n",
    "$$I_{p}(t)=R|E_{i n}(t)|^{2}$$\n",
    "\n",
    "onde $R$ é uma constante de proporcionalidade chamada responsividade do fotodetector, medida em unidades de $A/W$. Em sistemas ópticos com modulação de intensidade e detecção direta, a conversão optoelétrica é realizada por um único fotodetector. Porém, um fotodetector não é capaz de recuperar a fase do campo de entrada.  Alternativamente, os receptores coerentes recorrem a estruturas mais elaboradas para recuperar a informação transmitida na amplitude, fase e polarização do sinal óptico.\n",
    "\n",
    "Por definição receptores coerentes são estruturas que misturam um sinal de entrada na frequência $\\omega_c$, com um oscilador local na frequência $\\omega_{LO}$, para recuperar a fase da portadora de entrada. A mistura é uma operação não linear que converte o sinal na frequência $\\omega_c$ para uma frequência intermediaria que denotamos por $\\Delta\\omega=\\omega_{c}-\\omega_{LO}$. A detecção coerente pode ser classificada em homódina, heteródina e intradina."
   ]
  },
  {
   "cell_type": "markdown",
   "metadata": {},
   "source": [
    "#### Tipos de detecção coerente"
   ]
  },
  {
   "cell_type": "markdown",
   "metadata": {},
   "source": [
    "- **Detecção Homódina** ($\\omega_{c}\\;=\\;\\omega_{LO}$): a frequência do laser do transmissor e a frequência do laser oscilador local são idênticas.\n",
    "\n",
    "- **Detecção Heteródina** ($\\omega_{c}\\neq\\omega_{LO}$): a frequência do laser do transmissor e a frequência do laser oscilador local são diferentes.\n",
    "\n",
    "- **Detecção intradina** ($\\omega_{c}\\approx\\omega_{LO}$): a frequência do laser do transmissor e do laser oscilador local são \"ligeiramente\" diferentes.\n",
    "\n",
    "Nos casos em que temos uma detecção intradina a conversão para banda base é realizada por algoritmos de recuperação de frequência implementados pelo DSP.\n",
    "\n",
    "O front-end óptico de um receptor coerente é a estrutura que mistura o sinal óptico de entrada com o laser oscilador local, gerando correntes elétricas que representam as componentes de fase e quadratura do sinal recebido, esse dispositivo é denominado como *Hybrid*. Abaixo podemos observar um circuito fotônico que implementa uma híbrida.\n",
    "\n",
    "<br>\n",
    "<center>\n",
    "    <img src=\"https://i.postimg.cc/rFFBm1Vj/Hybrid-90.png\">\n",
    "</center>\n",
    "<br>\n",
    "\n",
    "**Fig 01. Referência:** Digital Coherent Optical Systems: Architecture and Algorithms\n",
    "\n",
    "O sinal óptico $E_r(t)$ é primeiro combinado com o sinal do oscilador local $E_{LO}(t)$ em um híbrido de $90°$ que consiste em quatro acopladores de 3 dB e um deslocador de fase $\\pi/2$. Para entendermos a híbrida vamos começar com o modelo de função de transferência de campo de um acoplador de 3 dB dada por\n",
    "\n",
    "$$\\tilde{H}_{c}=\\frac{1}{\\sqrt{2}}\\left[\\begin{array}{c c}{{1}}&{{1}}\\\\ {{1}}&{{-1}}\\end{array}\\right]$$\n",
    "\n",
    "Utilizando a função de transferência é possível obter as expressões do campo elétrico dos sinais ópticos nos pontos 1, 2, 3 e 4 indicados na Fig 01.\n",
    "\n",
    "$$E_{1}(t)={\\frac{1}{2}}E_{r}(t)+{\\frac{1}{2}}E_{L O}(t),$$ \n",
    "$$E_{2}(t)=\\frac{1}{2}E_{r}(t)+\\frac{1}{2}E_{L O}(t)e^{j\\pi},$$\n",
    "$$E_{3}(t)=\\frac{1}{2}E_{r}(t)+\\frac{1}{2}E_{L O}(t)e^{j\\frac{\\pi}{2}},$$\n",
    "$$E_{4}(t)=\\frac{1}{2}E_{r}(t)+\\frac{1}{2}E_{L O}(t)e^{j\\frac{3\\pi}{2}}.$$\n",
    "\n",
    "A Hibrida combina $E_r(t)$ com $E_{LO}(t)$, produzindo quatro saídas com mudança de fase mutuamente em 0, $\\pi/2$, $\\pi$ e $3\\pi/2$ rad. Os quatro sinais ópticos são recebidos independentemente por quatro fotodetectores (também conhecidos como dois fotodetectores balanceados), que são combinados para produzir duas correntes elétricas correspondentes a componentes em fase e em quadratura.\n",
    "\n",
    "$$i_{I}(t)=i_{1}(t)-i_{2}(t)=R\\,|E_{1}(t)|^{2}-R\\,|E_{2}(t)|^{2}\\,,$$\n",
    "$$i_{Q}(t)=i_{3}(t)-i_{4}(t)=R\\,|E_{3}(t)|^{2}-R\\,|E_{4}(t)|^{2}\\,.$$\n",
    "\n",
    "Subistituindo $E_r(t)$\n",
    "\n",
    "$$i_{I}(t)=R\\left|{\\frac{1}{2}}E_{r}(t)+{\\frac{1}{2}}E_{L O}(t)\\right|^{2}-R\\left|{\\frac{1}{2}}E_{r}(t)+{\\frac{1}{2}}E_{L O}(t)e^{j\\pi}\\right|^{2},$$\n",
    "$$i_{Q}(t)=R\\left|\\frac{1}{2}E_{r}(t)+\\frac{1}{2}E_{L O}(t)e^{j\\frac{\\pi}{2}}\\right|^{2}-R\\left|\\frac{1}{2}E_{r}(t)+\\frac{1}{2}E_{L O}(t)e^{j\\frac{\\omega}{2}}\\right|^{2}.$$\n",
    "\n",
    "Ainda podemos simplificar utilizando a seguinte propriedade\n",
    "\n",
    "$$|z+k|^{2}=|z|^{2}+|k|^{2}+2\\mathbb{R}\\{zk^{*}\\}$$\n",
    "$$i_{I}(t)=R\\mathbb{R}\\left\\{E_{r}(t)E_{L O}^{*}(t)\\right\\}$$\n",
    "$$i_Q(t) = R\\mathbb{R}\\left\\{E_{r}(t)\\left[E_{LO}(t)e^{j\\pi/2}\\right]^{*}\\right\\}$$\n",
    "\n",
    "Se considerarmos "
   ]
  }
 ],
 "metadata": {
  "language_info": {
   "name": "python"
  }
 },
 "nbformat": 4,
 "nbformat_minor": 2
}

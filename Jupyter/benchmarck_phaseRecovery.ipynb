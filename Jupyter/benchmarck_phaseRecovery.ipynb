{
  "cells": [
    {
      "cell_type": "markdown",
      "source": [
        "# Benchmarck Phase Recovery\n",
        "\n",
        "Este notebook fornece um benchmarck para avaliar o tempo de processamento necessário para realização da recuperação de fase utilizando especificamente o algoritmo BPS."
      ],
      "metadata": {
        "id": "CTnycDXw64tv"
      }
    },
    {
      "cell_type": "code",
      "source": [
        "if 'google.colab' in str(get_ipython()):\n",
        "    ! git clone -b main https://github.com/edsonportosilva/OptiCommPy\n",
        "    from os import chdir as cd\n",
        "    cd('/content/OptiCommPy/')\n",
        "    ! pip install ."
      ],
      "metadata": {
        "colab": {
          "base_uri": "https://localhost:8080/"
        },
        "id": "rcDTRkIh60yV",
        "outputId": "4ce2cdd3-aa54-4157-aa07-4d6cdd96bf3e"
      },
      "execution_count": 1,
      "outputs": [
        {
          "output_type": "stream",
          "name": "stdout",
          "text": [
            "fatal: destination path 'OptiCommPy' already exists and is not an empty directory.\n",
            "Processing /content/OptiCommPy\n",
            "  Preparing metadata (setup.py) ... \u001b[?25l\u001b[?25hdone\n",
            "Requirement already satisfied: numpy>=1.24.4 in /usr/local/lib/python3.10/dist-packages (from OptiCommPy==0.9.0) (1.24.4)\n",
            "Requirement already satisfied: scipy>=1.13.0 in /usr/local/lib/python3.10/dist-packages (from OptiCommPy==0.9.0) (1.13.1)\n",
            "Requirement already satisfied: matplotlib>=3.7.0 in /usr/local/lib/python3.10/dist-packages (from OptiCommPy==0.9.0) (3.7.1)\n",
            "Requirement already satisfied: sympy in /usr/local/lib/python3.10/dist-packages (from OptiCommPy==0.9.0) (1.13.2)\n",
            "Requirement already satisfied: tqdm>=4.64.1 in /usr/local/lib/python3.10/dist-packages (from OptiCommPy==0.9.0) (4.66.5)\n",
            "Requirement already satisfied: numba<=0.57,>=0.54.0 in /usr/local/lib/python3.10/dist-packages (from OptiCommPy==0.9.0) (0.57.0)\n",
            "Requirement already satisfied: simple-pid>=1.0.1 in /usr/local/lib/python3.10/dist-packages (from OptiCommPy==0.9.0) (2.0.1)\n",
            "Requirement already satisfied: mpl-scatter-density>=0.7.0 in /usr/local/lib/python3.10/dist-packages (from OptiCommPy==0.9.0) (0.7)\n",
            "Requirement already satisfied: sphinx-rtd-theme>=1.2.2 in /usr/local/lib/python3.10/dist-packages (from OptiCommPy==0.9.0) (2.0.0)\n",
            "Requirement already satisfied: nbsphinx>=0.9.3 in /usr/local/lib/python3.10/dist-packages (from OptiCommPy==0.9.0) (0.9.5)\n",
            "Requirement already satisfied: nbsphinx-link>=1.3.0 in /usr/local/lib/python3.10/dist-packages (from OptiCommPy==0.9.0) (1.3.0)\n",
            "Requirement already satisfied: contourpy>=1.0.1 in /usr/local/lib/python3.10/dist-packages (from matplotlib>=3.7.0->OptiCommPy==0.9.0) (1.3.0)\n",
            "Requirement already satisfied: cycler>=0.10 in /usr/local/lib/python3.10/dist-packages (from matplotlib>=3.7.0->OptiCommPy==0.9.0) (0.12.1)\n",
            "Requirement already satisfied: fonttools>=4.22.0 in /usr/local/lib/python3.10/dist-packages (from matplotlib>=3.7.0->OptiCommPy==0.9.0) (4.53.1)\n",
            "Requirement already satisfied: kiwisolver>=1.0.1 in /usr/local/lib/python3.10/dist-packages (from matplotlib>=3.7.0->OptiCommPy==0.9.0) (1.4.7)\n",
            "Requirement already satisfied: packaging>=20.0 in /usr/local/lib/python3.10/dist-packages (from matplotlib>=3.7.0->OptiCommPy==0.9.0) (24.1)\n",
            "Requirement already satisfied: pillow>=6.2.0 in /usr/local/lib/python3.10/dist-packages (from matplotlib>=3.7.0->OptiCommPy==0.9.0) (9.4.0)\n",
            "Requirement already satisfied: pyparsing>=2.3.1 in /usr/local/lib/python3.10/dist-packages (from matplotlib>=3.7.0->OptiCommPy==0.9.0) (3.1.4)\n",
            "Requirement already satisfied: python-dateutil>=2.7 in /usr/local/lib/python3.10/dist-packages (from matplotlib>=3.7.0->OptiCommPy==0.9.0) (2.8.2)\n",
            "Requirement already satisfied: fast-histogram>=0.3 in /usr/local/lib/python3.10/dist-packages (from mpl-scatter-density>=0.7.0->OptiCommPy==0.9.0) (0.14)\n",
            "Requirement already satisfied: docutils>=0.18.1 in /usr/local/lib/python3.10/dist-packages (from nbsphinx>=0.9.3->OptiCommPy==0.9.0) (0.18.1)\n",
            "Requirement already satisfied: jinja2 in /usr/local/lib/python3.10/dist-packages (from nbsphinx>=0.9.3->OptiCommPy==0.9.0) (3.1.4)\n",
            "Requirement already satisfied: nbconvert!=5.4,>=5.3 in /usr/local/lib/python3.10/dist-packages (from nbsphinx>=0.9.3->OptiCommPy==0.9.0) (6.5.4)\n",
            "Requirement already satisfied: traitlets>=5 in /usr/local/lib/python3.10/dist-packages (from nbsphinx>=0.9.3->OptiCommPy==0.9.0) (5.7.1)\n",
            "Requirement already satisfied: nbformat in /usr/local/lib/python3.10/dist-packages (from nbsphinx>=0.9.3->OptiCommPy==0.9.0) (5.10.4)\n",
            "Requirement already satisfied: sphinx>=1.8 in /usr/local/lib/python3.10/dist-packages (from nbsphinx>=0.9.3->OptiCommPy==0.9.0) (5.0.2)\n",
            "Requirement already satisfied: llvmlite<0.41,>=0.40.0dev0 in /usr/local/lib/python3.10/dist-packages (from numba<=0.57,>=0.54.0->OptiCommPy==0.9.0) (0.40.1)\n",
            "Requirement already satisfied: sphinxcontrib-jquery<5,>=4 in /usr/local/lib/python3.10/dist-packages (from sphinx-rtd-theme>=1.2.2->OptiCommPy==0.9.0) (4.1)\n",
            "Requirement already satisfied: mpmath<1.4,>=1.1.0 in /usr/local/lib/python3.10/dist-packages (from sympy->OptiCommPy==0.9.0) (1.3.0)\n",
            "Requirement already satisfied: lxml in /usr/local/lib/python3.10/dist-packages (from nbconvert!=5.4,>=5.3->nbsphinx>=0.9.3->OptiCommPy==0.9.0) (4.9.4)\n",
            "Requirement already satisfied: beautifulsoup4 in /usr/local/lib/python3.10/dist-packages (from nbconvert!=5.4,>=5.3->nbsphinx>=0.9.3->OptiCommPy==0.9.0) (4.12.3)\n",
            "Requirement already satisfied: bleach in /usr/local/lib/python3.10/dist-packages (from nbconvert!=5.4,>=5.3->nbsphinx>=0.9.3->OptiCommPy==0.9.0) (6.1.0)\n",
            "Requirement already satisfied: defusedxml in /usr/local/lib/python3.10/dist-packages (from nbconvert!=5.4,>=5.3->nbsphinx>=0.9.3->OptiCommPy==0.9.0) (0.7.1)\n",
            "Requirement already satisfied: entrypoints>=0.2.2 in /usr/local/lib/python3.10/dist-packages (from nbconvert!=5.4,>=5.3->nbsphinx>=0.9.3->OptiCommPy==0.9.0) (0.4)\n",
            "Requirement already satisfied: jupyter-core>=4.7 in /usr/local/lib/python3.10/dist-packages (from nbconvert!=5.4,>=5.3->nbsphinx>=0.9.3->OptiCommPy==0.9.0) (5.7.2)\n",
            "Requirement already satisfied: jupyterlab-pygments in /usr/local/lib/python3.10/dist-packages (from nbconvert!=5.4,>=5.3->nbsphinx>=0.9.3->OptiCommPy==0.9.0) (0.3.0)\n",
            "Requirement already satisfied: MarkupSafe>=2.0 in /usr/local/lib/python3.10/dist-packages (from nbconvert!=5.4,>=5.3->nbsphinx>=0.9.3->OptiCommPy==0.9.0) (2.1.5)\n",
            "Requirement already satisfied: mistune<2,>=0.8.1 in /usr/local/lib/python3.10/dist-packages (from nbconvert!=5.4,>=5.3->nbsphinx>=0.9.3->OptiCommPy==0.9.0) (0.8.4)\n",
            "Requirement already satisfied: nbclient>=0.5.0 in /usr/local/lib/python3.10/dist-packages (from nbconvert!=5.4,>=5.3->nbsphinx>=0.9.3->OptiCommPy==0.9.0) (0.10.0)\n",
            "Requirement already satisfied: pandocfilters>=1.4.1 in /usr/local/lib/python3.10/dist-packages (from nbconvert!=5.4,>=5.3->nbsphinx>=0.9.3->OptiCommPy==0.9.0) (1.5.1)\n",
            "Requirement already satisfied: pygments>=2.4.1 in /usr/local/lib/python3.10/dist-packages (from nbconvert!=5.4,>=5.3->nbsphinx>=0.9.3->OptiCommPy==0.9.0) (2.16.1)\n",
            "Requirement already satisfied: tinycss2 in /usr/local/lib/python3.10/dist-packages (from nbconvert!=5.4,>=5.3->nbsphinx>=0.9.3->OptiCommPy==0.9.0) (1.3.0)\n",
            "Requirement already satisfied: fastjsonschema>=2.15 in /usr/local/lib/python3.10/dist-packages (from nbformat->nbsphinx>=0.9.3->OptiCommPy==0.9.0) (2.20.0)\n",
            "Requirement already satisfied: jsonschema>=2.6 in /usr/local/lib/python3.10/dist-packages (from nbformat->nbsphinx>=0.9.3->OptiCommPy==0.9.0) (4.23.0)\n",
            "Requirement already satisfied: six>=1.5 in /usr/local/lib/python3.10/dist-packages (from python-dateutil>=2.7->matplotlib>=3.7.0->OptiCommPy==0.9.0) (1.16.0)\n",
            "Requirement already satisfied: sphinxcontrib-applehelp in /usr/local/lib/python3.10/dist-packages (from sphinx>=1.8->nbsphinx>=0.9.3->OptiCommPy==0.9.0) (2.0.0)\n",
            "Requirement already satisfied: sphinxcontrib-devhelp in /usr/local/lib/python3.10/dist-packages (from sphinx>=1.8->nbsphinx>=0.9.3->OptiCommPy==0.9.0) (2.0.0)\n",
            "Requirement already satisfied: sphinxcontrib-jsmath in /usr/local/lib/python3.10/dist-packages (from sphinx>=1.8->nbsphinx>=0.9.3->OptiCommPy==0.9.0) (1.0.1)\n",
            "Requirement already satisfied: sphinxcontrib-htmlhelp>=2.0.0 in /usr/local/lib/python3.10/dist-packages (from sphinx>=1.8->nbsphinx>=0.9.3->OptiCommPy==0.9.0) (2.1.0)\n",
            "Requirement already satisfied: sphinxcontrib-serializinghtml>=1.1.5 in /usr/local/lib/python3.10/dist-packages (from sphinx>=1.8->nbsphinx>=0.9.3->OptiCommPy==0.9.0) (2.0.0)\n",
            "Requirement already satisfied: sphinxcontrib-qthelp in /usr/local/lib/python3.10/dist-packages (from sphinx>=1.8->nbsphinx>=0.9.3->OptiCommPy==0.9.0) (2.0.0)\n",
            "Requirement already satisfied: snowballstemmer>=1.1 in /usr/local/lib/python3.10/dist-packages (from sphinx>=1.8->nbsphinx>=0.9.3->OptiCommPy==0.9.0) (2.2.0)\n",
            "Requirement already satisfied: babel>=1.3 in /usr/local/lib/python3.10/dist-packages (from sphinx>=1.8->nbsphinx>=0.9.3->OptiCommPy==0.9.0) (2.16.0)\n",
            "Requirement already satisfied: alabaster<0.8,>=0.7 in /usr/local/lib/python3.10/dist-packages (from sphinx>=1.8->nbsphinx>=0.9.3->OptiCommPy==0.9.0) (0.7.16)\n",
            "Requirement already satisfied: imagesize in /usr/local/lib/python3.10/dist-packages (from sphinx>=1.8->nbsphinx>=0.9.3->OptiCommPy==0.9.0) (1.4.1)\n",
            "Requirement already satisfied: requests>=2.5.0 in /usr/local/lib/python3.10/dist-packages (from sphinx>=1.8->nbsphinx>=0.9.3->OptiCommPy==0.9.0) (2.32.3)\n",
            "Requirement already satisfied: attrs>=22.2.0 in /usr/local/lib/python3.10/dist-packages (from jsonschema>=2.6->nbformat->nbsphinx>=0.9.3->OptiCommPy==0.9.0) (24.2.0)\n",
            "Requirement already satisfied: jsonschema-specifications>=2023.03.6 in /usr/local/lib/python3.10/dist-packages (from jsonschema>=2.6->nbformat->nbsphinx>=0.9.3->OptiCommPy==0.9.0) (2023.12.1)\n",
            "Requirement already satisfied: referencing>=0.28.4 in /usr/local/lib/python3.10/dist-packages (from jsonschema>=2.6->nbformat->nbsphinx>=0.9.3->OptiCommPy==0.9.0) (0.35.1)\n",
            "Requirement already satisfied: rpds-py>=0.7.1 in /usr/local/lib/python3.10/dist-packages (from jsonschema>=2.6->nbformat->nbsphinx>=0.9.3->OptiCommPy==0.9.0) (0.20.0)\n",
            "Requirement already satisfied: platformdirs>=2.5 in /usr/local/lib/python3.10/dist-packages (from jupyter-core>=4.7->nbconvert!=5.4,>=5.3->nbsphinx>=0.9.3->OptiCommPy==0.9.0) (4.3.2)\n",
            "Requirement already satisfied: jupyter-client>=6.1.12 in /usr/local/lib/python3.10/dist-packages (from nbclient>=0.5.0->nbconvert!=5.4,>=5.3->nbsphinx>=0.9.3->OptiCommPy==0.9.0) (6.1.12)\n",
            "Requirement already satisfied: charset-normalizer<4,>=2 in /usr/local/lib/python3.10/dist-packages (from requests>=2.5.0->sphinx>=1.8->nbsphinx>=0.9.3->OptiCommPy==0.9.0) (3.3.2)\n",
            "Requirement already satisfied: idna<4,>=2.5 in /usr/local/lib/python3.10/dist-packages (from requests>=2.5.0->sphinx>=1.8->nbsphinx>=0.9.3->OptiCommPy==0.9.0) (3.8)\n",
            "Requirement already satisfied: urllib3<3,>=1.21.1 in /usr/local/lib/python3.10/dist-packages (from requests>=2.5.0->sphinx>=1.8->nbsphinx>=0.9.3->OptiCommPy==0.9.0) (2.0.7)\n",
            "Requirement already satisfied: certifi>=2017.4.17 in /usr/local/lib/python3.10/dist-packages (from requests>=2.5.0->sphinx>=1.8->nbsphinx>=0.9.3->OptiCommPy==0.9.0) (2024.8.30)\n",
            "Requirement already satisfied: soupsieve>1.2 in /usr/local/lib/python3.10/dist-packages (from beautifulsoup4->nbconvert!=5.4,>=5.3->nbsphinx>=0.9.3->OptiCommPy==0.9.0) (2.6)\n",
            "Requirement already satisfied: webencodings in /usr/local/lib/python3.10/dist-packages (from bleach->nbconvert!=5.4,>=5.3->nbsphinx>=0.9.3->OptiCommPy==0.9.0) (0.5.1)\n",
            "Requirement already satisfied: pyzmq>=13 in /usr/local/lib/python3.10/dist-packages (from jupyter-client>=6.1.12->nbclient>=0.5.0->nbconvert!=5.4,>=5.3->nbsphinx>=0.9.3->OptiCommPy==0.9.0) (24.0.1)\n",
            "Requirement already satisfied: tornado>=4.1 in /usr/local/lib/python3.10/dist-packages (from jupyter-client>=6.1.12->nbclient>=0.5.0->nbconvert!=5.4,>=5.3->nbsphinx>=0.9.3->OptiCommPy==0.9.0) (6.3.3)\n",
            "Building wheels for collected packages: OptiCommPy\n",
            "  Building wheel for OptiCommPy (setup.py) ... \u001b[?25l\u001b[?25hdone\n",
            "  Created wheel for OptiCommPy: filename=OptiCommPy-0.9.0-py3-none-any.whl size=76532 sha256=809dd54f249dd725c07346a14c79a28b81b8ffbbfc40e3d121b9e34ad21d1a26\n",
            "  Stored in directory: /tmp/pip-ephem-wheel-cache-hlq1ipsa/wheels/9e/f3/8b/afabbf8928f62ae99a9b1ff6cd1517ecf94ac8ce265d6f0ae0\n",
            "Successfully built OptiCommPy\n",
            "Installing collected packages: OptiCommPy\n",
            "  Attempting uninstall: OptiCommPy\n",
            "    Found existing installation: OptiCommPy 0.9.0\n",
            "    Uninstalling OptiCommPy-0.9.0:\n",
            "      Successfully uninstalled OptiCommPy-0.9.0\n",
            "Successfully installed OptiCommPy-0.9.0\n"
          ]
        }
      ]
    },
    {
      "cell_type": "code",
      "source": [
        "import matplotlib.pyplot as plt\n",
        "import numpy as np\n",
        "\n",
        "from optic.dsp.core import pulseShape, firFilter, decimate, pnorm\n",
        "from optic.models.devices import pdmCoherentReceiver, basicLaserModel\n",
        "from optic.dsp.carrierRecovery import cpr\n",
        "from optic.models.channels import linearFiberChannel, awgn\n",
        "from optic.models.tx import simpleWDMTx\n",
        "from optic.utils import parameters\n",
        "from optic.comm.metrics import fastBERcalc\n",
        "from optic.comm.modulation import grayMapping\n",
        "from optic.plot import pconst\n",
        "\n",
        "import time\n",
        "import cupy as cp\n",
        "import scipy.constants as const"
      ],
      "metadata": {
        "id": "Zd8fgeL_737O"
      },
      "execution_count": 2,
      "outputs": []
    },
    {
      "cell_type": "markdown",
      "source": [
        "### Define o método de quarta potência\n",
        "\n",
        "Compense o desvio de frequência com o método de quarta potência"
      ],
      "metadata": {
        "id": "WVEjwPffK-Zs"
      }
    },
    {
      "cell_type": "code",
      "source": [
        "def fourthPower(sigRx, Fs):\n",
        "    \"\"\"\n",
        "    Compensa o deslocamento de frequência utilizando o método\n",
        "    de quarta potência.\n",
        "\n",
        "    Parameters\n",
        "    ----------\n",
        "    sigRx : np.array\n",
        "        Sinal a ser compensado o desvio de frequência.\n",
        "\n",
        "    Fs : int\n",
        "        Taxa de amostragem.\n",
        "\n",
        "    Returns\n",
        "    -------\n",
        "    tuple\n",
        "        - sigRx (np.array): Sinal compensado.\n",
        "        - indFO (float): Estimativa do deslocamento de frequência.\n",
        "\n",
        "    Referências\n",
        "    -----------\n",
        "        [1] Digital Coherent Optical Systems, Architecture and Algorithms\n",
        "    \"\"\"\n",
        "\n",
        "    try:\n",
        "        nModes = sigRx.shape[1]\n",
        "    except IndexError:\n",
        "        sigRx = sigRx.reshape(len(sigRx), 1)\n",
        "\n",
        "    NFFT     = sigRx.shape[0]\n",
        "    axisFreq = Fs * np.fft.fftfreq(NFFT)\n",
        "\n",
        "    time = np.arange(0, sigRx.shape[0]) * 1/Fs\n",
        "\n",
        "    for indMode in range(nModes):\n",
        "\n",
        "        # Elevar a quarta potência e aplica a FFT\n",
        "        fourth_power = np.fft.fft(sigRx[:, indMode]**4)\n",
        "\n",
        "        # Inferir o índice de valor máximo na frequência\n",
        "        indFO = np.argmax(np.abs(fourth_power))\n",
        "\n",
        "        # Obtenha a estimativa do deslocamento de frequência\n",
        "        indFO = axisFreq[indFO]/4\n",
        "\n",
        "        # Compense o deslocamento de frequência\n",
        "        sigRx[:, indMode] *= np.exp(-1j * 2 * np.pi * indFO * time)\n",
        "\n",
        "    return sigRx, indFO"
      ],
      "metadata": {
        "id": "MPyQel4I-MLI"
      },
      "execution_count": 3,
      "outputs": []
    },
    {
      "cell_type": "markdown",
      "source": [
        "## Define o algoritmo BPS (CPU)"
      ],
      "metadata": {
        "id": "d5xHBnzw95yd"
      }
    },
    {
      "cell_type": "markdown",
      "source": [
        "Define a forma vetorizada do algoritmo BPS evitando a sobrecarga de loops explicitos e principalmente do interpretador CPython"
      ],
      "metadata": {
        "id": "3aUlobfxOQ4w"
      }
    },
    {
      "cell_type": "code",
      "source": [
        "def bpsVec(z, constSymb, N, B):\n",
        "    \"\"\"\n",
        "    Compensa o ruído de fase com o algoritmo de busca de fase cega.\n",
        "\n",
        "    Parameters\n",
        "    ----------\n",
        "    z : np.array\n",
        "        Sinal normalizado em potência, no qual a recuperação de fase será realizada.\n",
        "\n",
        "    constSymb : np.array\n",
        "        Símbolos da constelação.\n",
        "\n",
        "    N : int\n",
        "        Número de símbolos 'passados' e 'futuros' usados ​​no algoritmo BPS para estimativa\n",
        "        de ruído de fase. O número total de símbolos é então L = 2*N+1\n",
        "\n",
        "    B : int\n",
        "        Número de rotações de teste.\n",
        "\n",
        "    Returns\n",
        "    -------\n",
        "    tuple:\n",
        "        z (np.array): Constelação com referência de fase.\n",
        "        phiPU (np.array): Estimativa do ruído de fase em cada modo.\n",
        "\n",
        "    Referências\n",
        "    -----------\n",
        "        [1] Digital Coherent Optical Systems, Architecture and Algorithms\n",
        "\n",
        "        [2] LIU, Q.; JI, W.; LIU, P.; LI, Q.; BAI, C.; XU, H.; ZHU, Y. Blind phase search algorithm based\n",
        "            on threshold simplification. 2022.\n",
        "    \"\"\"\n",
        "\n",
        "    nModes = z.shape[1]\n",
        "\n",
        "    phiTest = (np.pi / 2) * np.arange(-B/2, B/2) / B # fases de teste\n",
        "\n",
        "    # zero padding\n",
        "    lpad = np.zeros((N // 2, nModes))\n",
        "    zBlocks = np.concatenate((lpad, z, lpad))\n",
        "\n",
        "    # aplica os ângulos da fase de teste aos símbolos\n",
        "    zRot = zBlocks[:, :, None] * np.exp(-1j * phiTest)\n",
        "\n",
        "    # calcule a distância quadrática entre os símbolos da constelação\n",
        "    distQuad = np.abs(zRot[:, :, :, None] - constSymb) ** 2\n",
        "\n",
        "    # obtenha a métrica de distância mínima entre os símbolos\n",
        "    minDist = np.min(distQuad, axis=-1)\n",
        "\n",
        "    # obtem as fases que melhor minimizam a soma total das distâncias mínimas\n",
        "    cumSum = np.cumsum(minDist, axis=0)\n",
        "    sumMinDist = cumSum[N-1:] - np.vstack([np.zeros((1, nModes, B)), cumSum[:-N]])\n",
        "\n",
        "    indRot = np.argmin(sumMinDist, axis=-1)\n",
        "    phiPU  = np.unwrap(phiTest[indRot], period=2*np.pi/4, axis=0)\n",
        "\n",
        "    # compensa o ruído de fase\n",
        "    z = pnorm(z * np.exp(-1j * phiPU))\n",
        "\n",
        "    return z, phiPU"
      ],
      "metadata": {
        "id": "UpbTeVrS-HdO"
      },
      "execution_count": 5,
      "outputs": []
    },
    {
      "cell_type": "markdown",
      "source": [
        "## Método alternativo (Convolução)"
      ],
      "metadata": {
        "id": "x3h9ySyfMZDt"
      }
    },
    {
      "cell_type": "markdown",
      "source": [
        "A soma total das distâncias mínimas pode ser implementado a partir de uma convolução utilizando um kernel de três dimensões cuja janela possui o tamanho 'N'"
      ],
      "metadata": {
        "id": "ZKoH_xGHMibk"
      }
    },
    {
      "cell_type": "code",
      "source": [
        "from scipy import signal\n",
        "\n",
        "def bpsCPU(Ei, N, X, B):\n",
        "\n",
        "    ϕ_test = np.arange(B) * (np.pi / 2) / B\n",
        "    window_filter = np.ones((N, 1, 1)) # Filtro de convolução\n",
        "\n",
        "    nModes = Ei.shape[1]\n",
        "    zeroPad = np.zeros((N // 2, nModes))\n",
        "\n",
        "    Ei_gpu = np.concatenate(\n",
        "        (zeroPad, Ei, zeroPad)\n",
        "    )\n",
        "\n",
        "    Ei_rotated = Ei_gpu[:, :, np.newaxis] * np.exp(ϕ_test)[None, None, :]\n",
        "\n",
        "    dist = np.absolute(np.subtract(\n",
        "        Ei_rotated[:, :, :, None], X[None, None, None, :])) ** 2\n",
        "\n",
        "    min_dist = np.min(dist, axis=3)\n",
        "    window_sums = signal.oaconvolve(min_dist, window_filter, mode=\"valid\")\n",
        "\n",
        "    ind_rot = np.argmin(window_sums, axis=2)\n",
        "    θ = np.unwrap(ϕ_test[ind_rot], period=2*np.pi/4, axis=0)\n",
        "\n",
        "    # compensa o ruído de fase\n",
        "    Ei = pnorm(Ei * np.exp(-1j * θ))\n",
        "\n",
        "    return Ei, θ"
      ],
      "metadata": {
        "id": "l1ZLm-cY-Wp7"
      },
      "execution_count": 8,
      "outputs": []
    },
    {
      "cell_type": "markdown",
      "source": [
        "# Parâmetros para geração do sinal DWDM"
      ],
      "metadata": {
        "id": "EqAYbbFO7952"
      }
    },
    {
      "cell_type": "code",
      "source": [
        "# Transmitter parameters:\n",
        "paramTx = parameters()\n",
        "paramTx.M = 16                  # order of the modulation format\n",
        "paramTx.constType = 'qam'       # modulation scheme\n",
        "paramTx.Rs  = 32e9              # symbol rate [baud]\n",
        "paramTx.SpS = 16                # samples per symbol\n",
        "paramTx.pulse = 'rrc'           # pulse shaping filter\n",
        "paramTx.Ntaps = 4096            # number of pulse shaping filter coefficients\n",
        "paramTx.alphaRRC = 0.01         # RRC rolloff\n",
        "paramTx.Pch_dBm = -2            # power per WDM channel [dBm]\n",
        "paramTx.Nch     = 1             # number of WDM channels\n",
        "paramTx.Fc      = 193.1e12      # central optical frequency of the WDM spectrum\n",
        "paramTx.lw      = 100e3         # laser linewidth in Hz\n",
        "paramTx.freqSpac = 37.5e9       # WDM grid spacing\n",
        "paramTx.Nmodes = 2              # number of signal modes [2 for polarization multiplexed signals]\n",
        "paramTx.prgsBar = False         # show progress bar\n",
        "\n",
        "Fs = paramTx.Rs * paramTx.SpS  # simulation sampling rate"
      ],
      "metadata": {
        "id": "2_2Qg-PWGJr8"
      },
      "execution_count": 40,
      "outputs": []
    },
    {
      "cell_type": "markdown",
      "source": [
        "## Obtenha as curvas de desempenho em CPU"
      ],
      "metadata": {
        "id": "F9vA8DJS8ZUs"
      }
    },
    {
      "cell_type": "markdown",
      "source": [
        "Nesta simulação o tamanho do stream de bits por polarização e variado para avaliação do tempo de execução conforme o comprimento do sinal aumenta."
      ],
      "metadata": {
        "id": "6ykv0mRc9YRh"
      }
    },
    {
      "cell_type": "code",
      "source": [
        "numberOfSymbols = np.array([5e3, 1e4, 2e4, 5e4, 1e5, 2e5])\n",
        "\n",
        "timeVectorized_sequential  = np.zeros(len(numberOfSymbols))\n",
        "timeVectorized_convolution = np.zeros(len(numberOfSymbols))\n",
        "timeNumba = np.zeros(len(numberOfSymbols))\n",
        "\n",
        "for indx, Nsymb in enumerate(numberOfSymbols):\n",
        "\n",
        "    paramTx.Nbits = int(np.log2(paramTx.M)*Nsymb) # total number of bits per polarization\n",
        "\n",
        "    # generate WDM signal\n",
        "    sigWDM_Tx, symbTx_, paramTx = simpleWDMTx(paramTx)\n",
        "\n",
        "    # sigCh = linearFiberChannel(sigWDM_Tx, paramFiber)\n",
        "    SNRdB = 15\n",
        "    sigCh = awgn(sigWDM_Tx, SNRdB, Fs, paramTx.Rs)\n",
        "\n",
        "    # parameters\n",
        "    chIndex  = 0    # index of the channel to be demodulated\n",
        "\n",
        "    freqGrid = paramTx.freqGrid\n",
        "    π  = np.pi\n",
        "    t  = np.arange(0, len(sigCh))*1/Fs\n",
        "\n",
        "    symbTx = symbTx_[:,:,chIndex]\n",
        "\n",
        "    # local oscillator (LO) parameters:\n",
        "    FO      = 60e6                  # frequency offset\n",
        "    Δf_lo   = freqGrid[chIndex]+FO  # downshift of the channel to be demodulated\n",
        "\n",
        "    # generate CW laser LO field\n",
        "    paramLO = parameters()\n",
        "    paramLO.P = 10              # power in dBm\n",
        "    paramLO.lw = 100e3          # laser linewidth\n",
        "    paramLO.RIN_var = 0\n",
        "    paramLO.Ns = len(sigCh)\n",
        "    paramLO.Fs = Fs\n",
        "\n",
        "    sigLO = basicLaserModel(paramLO)\n",
        "    sigLO = sigLO*np.exp(1j*2*π*Δf_lo*t) # add frequency offset\n",
        "\n",
        "    # polarization multiplexed coherent optical receiver\n",
        "    sigRx = pdmCoherentReceiver(sigCh, sigLO, θsig = 0)\n",
        "\n",
        "    # Rx filtering\n",
        "\n",
        "    # Matched filtering\n",
        "    if paramTx.pulse == 'nrz':\n",
        "        pulse = pulseShape('nrz', paramTx.SpS)\n",
        "    elif paramTx.pulse == 'rrc':\n",
        "        pulse = pulseShape('rrc', paramTx.SpS, N=paramTx.Ntaps, alpha=paramTx.alphaRRC, Ts=1/paramTx.Rs)\n",
        "\n",
        "    pulse = pnorm(pulse)\n",
        "    sigRx = firFilter(pulse, sigRx)\n",
        "\n",
        "    # decimation\n",
        "    paramDec = parameters()\n",
        "    paramDec.SpS_in  = paramTx.SpS\n",
        "    paramDec.SpS_out = 1\n",
        "    sigRx = decimate(sigRx, paramDec)\n",
        "\n",
        "    # compensa o desvio de frequência\n",
        "    sigRxFOE, indFO = fourthPower(sigRx, Fs)\n",
        "    sigRxFOE = pnorm(sigRxFOE)\n",
        "\n",
        "    # parâmetros para o BPS\n",
        "    paramCPR = parameters()\n",
        "    paramCPR.alg = 'bps'\n",
        "    paramCPR.M   = paramTx.M\n",
        "    paramCPR.constType = paramTx.constType\n",
        "    paramCPR.N   = 85\n",
        "    paramCPR.B   = 64\n",
        "    paramCPR.returnPhases = True\n",
        "\n",
        "    # obtém os símbolos da constelação\n",
        "    constSymb = grayMapping(paramTx.M, paramTx.constType)\n",
        "\n",
        "    # vetorização utilizando operações sequênciais\n",
        "    start = time.time()\n",
        "    y_CPR, phi = bpsVec(sigRxFOE, constSymb, paramCPR.N, paramCPR.B)\n",
        "    end = time.time()\n",
        "    timeVectorized_sequential[indx] = end - start\n",
        "\n",
        "    # vetorização utilizando somas por meio de convoluções\n",
        "    start = time.time()\n",
        "    y_CPR, phi = bpsCPU(sigRxFOE, paramCPR.N, constSymb, paramCPR.B)\n",
        "    end = time.time()\n",
        "    timeVectorized_convolution[indx] = end - start\n",
        "\n",
        "    # BPS optiCommPy\n",
        "    start = time.time()\n",
        "    y_CPR, phi = cpr(sigRxFOE, paramCPR)\n",
        "    end = time.time()\n",
        "    timeNumba[indx] = end - start"
      ],
      "metadata": {
        "id": "HAFjbRBt8YNV"
      },
      "execution_count": 43,
      "outputs": []
    },
    {
      "cell_type": "markdown",
      "source": [
        "## Avalie o tempo de execução em CPU"
      ],
      "metadata": {
        "id": "CZGKHdQO9M3u"
      }
    },
    {
      "cell_type": "code",
      "source": [
        "signalLength = numberOfSymbols*paramTx.SpS\n",
        "\n",
        "plt.figure(figsize=(10, 4))\n",
        "plt.plot(signalLength, timeVectorized_sequential, '-o', linewidth=1.8, label='Sequential')\n",
        "plt.plot(signalLength, timeVectorized_convolution, '-^', linewidth=1.8, label='Convolution')\n",
        "plt.plot(signalLength, timeNumba, '-s', linewidth=1.8, label='Numba')\n",
        "plt.xlabel('Length of the signal (number of samples)')\n",
        "plt.ylabel('Processing time (s)')\n",
        "plt.legend()\n",
        "plt.grid()\n",
        "plt.xlim(min(signalLength), max(signalLength));"
      ],
      "metadata": {
        "colab": {
          "base_uri": "https://localhost:8080/",
          "height": 388
        },
        "id": "PtPxuK0C9MT2",
        "outputId": "d57153d5-b940-4500-9956-120c3ddd464f"
      },
      "execution_count": 55,
      "outputs": [
        {
          "output_type": "display_data",
          "data": {
            "text/plain": [
              "<Figure size 1000x400 with 1 Axes>"
            ],
            "image/png": "[encoded data removed]"
          },
          "metadata": {}
        }
      ]
    },
    {
      "cell_type": "markdown",
      "source": [
        "## Define o algoritmo BPS (GPU)"
      ],
      "metadata": {
        "id": "OaEZKiF-REam"
      }
    },
    {
      "cell_type": "code",
      "source": [
        "def bpsVecGPU(z, constSymb, N, B):\n",
        "    \"\"\"\n",
        "    Compensa o ruído de fase com o algoritmo de busca de fase cega.\n",
        "\n",
        "    Parameters\n",
        "    ----------\n",
        "    z : np.array\n",
        "        Sinal normalizado em potência, no qual a recuperação de fase será realizada.\n",
        "\n",
        "    constSymb : np.array\n",
        "        Símbolos da constelação.\n",
        "\n",
        "    N : int\n",
        "        Número de símbolos 'passados' e 'futuros' usados ​​no algoritmo BPS para estimativa\n",
        "        de ruído de fase. O número total de símbolos é então L = 2*N+1\n",
        "\n",
        "    B : int\n",
        "        Número de rotações de teste.\n",
        "\n",
        "    Returns\n",
        "    -------\n",
        "    tuple:\n",
        "        z (np.array): Constelação com referência de fase.\n",
        "        phiPU (np.array): Estimativa do ruído de fase em cada modo.\n",
        "\n",
        "    Referências\n",
        "    -----------\n",
        "        [1] Digital Coherent Optical Systems, Architecture and Algorithms\n",
        "\n",
        "        [2] LIU, Q.; JI, W.; LIU, P.; LI, Q.; BAI, C.; XU, H.; ZHU, Y. Blind phase search algorithm based\n",
        "            on threshold simplification. 2022.\n",
        "    \"\"\"\n",
        "\n",
        "    z = cp.asarray(z)\n",
        "    constSymb = cp.asarray(constSymb)\n",
        "\n",
        "    nModes = z.shape[1]\n",
        "\n",
        "    phiTest = cp.asarray((np.pi / 2) * np.arange(-B/2, B/2) / B) # fases de teste\n",
        "\n",
        "    # zero padding\n",
        "    lpad = cp.zeros((N // 2, nModes))\n",
        "    zBlocks = cp.concatenate((lpad, z, lpad))\n",
        "\n",
        "    # aplica os ângulos da fase de teste aos símbolos\n",
        "    zRot = zBlocks[:, :, None] * cp.exp(-1j * phiTest)\n",
        "\n",
        "    # calcule a distância quadrática entre os símbolos da constelação\n",
        "    distQuad = cp.abs(zRot[:, :, :, None] - constSymb) ** 2\n",
        "\n",
        "    # obtenha a métrica de distância mínima entre os símbolos\n",
        "    minDist = cp.min(distQuad, axis=-1)\n",
        "\n",
        "    # obtem as fases que melhor minimizam a soma total das distâncias mínimas\n",
        "    cumSum = cp.cumsum(minDist, axis=0)\n",
        "    sumMinDist = cumSum[N-1:] - cp.vstack([cp.zeros((1, nModes, B)), cumSum[:-N]])\n",
        "\n",
        "    indRot = cp.argmin(sumMinDist, axis=-1)\n",
        "    phiPU  = cp.unwrap(phiTest[indRot], period=2*cp.pi/4, axis=0)\n",
        "\n",
        "    # compensa o ruído de fase\n",
        "    z *= cp.exp(-1j * phiPU)\n",
        "\n",
        "    return cp.asnumpy(z), cp.asnumpy(phiPU)"
      ],
      "metadata": {
        "id": "j6z2Cr3GQIcr"
      },
      "execution_count": 11,
      "outputs": []
    },
    {
      "cell_type": "markdown",
      "source": [
        "## Método alternativo (Convolução)"
      ],
      "metadata": {
        "id": "Tpwa9pNrS2x8"
      }
    },
    {
      "cell_type": "code",
      "source": [
        "from cupyx.scipy import signal\n",
        "\n",
        "def bpsGPU(Ei, N, X, B):\n",
        "    # Etapa 1\n",
        "    Ei = cp.asarray(Ei)\n",
        "    X = cp.asarray(X) # Simbolos de referencia da constelacao\n",
        "\n",
        "    ϕ_test = np.arange(B) * (np.pi / 2) / B\n",
        "    ϕ_test_gpu = cp.asarray(ϕ_test)\n",
        "    window_filter = cp.ones((N, 1, 1)) # Filtro de convolucao S\n",
        "\n",
        "    nModes = Ei.shape[1]\n",
        "    zeroPad = cp.zeros((N // 2, nModes))\n",
        "    Ei_gpu = cp.concatenate(\n",
        "        (zeroPad, Ei, zeroPad)\n",
        "    )\n",
        "\n",
        "    # Etapa 2\n",
        "    Ei_rotated = Ei_gpu[:, :, cp.newaxis] * cp.exp(ϕ_test_gpu)[None, None, :]\n",
        "\n",
        "    dist = cp.absolute(cp.subtract(\n",
        "        Ei_rotated[:, :, :, None], X[None, None, None, :])) ** 2\n",
        "\n",
        "    min_dist = cp.min(dist, axis=3)\n",
        "    window_sums = signal.oaconvolve(min_dist, window_filter, mode=\"valid\")\n",
        "\n",
        "    # Etapa 3\n",
        "    ind_rot = cp.argmin(window_sums, axis=2)\n",
        "    θ = cp.unwrap(ϕ_test_gpu[ind_rot], period=2*cp.pi/4, axis=0)\n",
        "\n",
        "    # compensa o ruído de fase\n",
        "    Ei *= cp.exp(-1j * θ)\n",
        "\n",
        "    return cp.asnumpy(Ei), cp.asnumpy(θ)"
      ],
      "metadata": {
        "id": "FhDDeDwISzJu"
      },
      "execution_count": 12,
      "outputs": []
    },
    {
      "cell_type": "markdown",
      "source": [
        "# Parâmetros para geração do sinal DWDM"
      ],
      "metadata": {
        "id": "VTjs6xjqUOcz"
      }
    },
    {
      "cell_type": "code",
      "source": [
        "# Transmitter parameters:\n",
        "paramTx = parameters()\n",
        "paramTx.M = 16                  # order of the modulation format\n",
        "paramTx.constType = 'qam'       # modulation scheme\n",
        "paramTx.Rs  = 32e9              # symbol rate [baud]\n",
        "paramTx.SpS = 16                # samples per symbol\n",
        "paramTx.pulse = 'rrc'           # pulse shaping filter\n",
        "paramTx.Ntaps = 4096            # number of pulse shaping filter coefficients\n",
        "paramTx.alphaRRC = 0.01         # RRC rolloff\n",
        "paramTx.Pch_dBm = -2            # power per WDM channel [dBm]\n",
        "paramTx.Nch     = 1             # number of WDM channels\n",
        "paramTx.Fc      = 193.1e12      # central optical frequency of the WDM spectrum\n",
        "paramTx.lw      = 100e3         # laser linewidth in Hz\n",
        "paramTx.freqSpac = 37.5e9       # WDM grid spacing\n",
        "paramTx.Nmodes = 2              # number of signal modes [2 for polarization multiplexed signals]\n",
        "paramTx.prgsBar = False         # show progress bar\n",
        "\n",
        "Fs = paramTx.Rs * paramTx.SpS  # simulation sampling rate"
      ],
      "metadata": {
        "id": "UkaJEyQXTqif"
      },
      "execution_count": 20,
      "outputs": []
    },
    {
      "cell_type": "markdown",
      "source": [
        "## Obtenha as curvas de desempenho em GPU"
      ],
      "metadata": {
        "id": "UMQdLFFZT7w9"
      }
    },
    {
      "cell_type": "code",
      "source": [
        "numberOfSymbols = np.array([5e3, 1e4, 2e4, 5e4, 1e5, 2e5])\n",
        "\n",
        "timeVectorized_sequential  = np.zeros(len(numberOfSymbols))\n",
        "timeVectorized_convolution = np.zeros(len(numberOfSymbols))\n",
        "timeNumba = np.zeros(len(numberOfSymbols))\n",
        "\n",
        "for indx, Nsymb in enumerate(numberOfSymbols):\n",
        "\n",
        "    paramTx.Nbits = int(np.log2(paramTx.M)*Nsymb) # total number of bits per polarization\n",
        "\n",
        "    # generate WDM signal\n",
        "    sigWDM_Tx, symbTx_, paramTx = simpleWDMTx(paramTx)\n",
        "\n",
        "    # sigCh = linearFiberChannel(sigWDM_Tx, paramFiber)\n",
        "    SNRdB = 15\n",
        "    sigCh = awgn(sigWDM_Tx, SNRdB, Fs, paramTx.Rs)\n",
        "\n",
        "    # parameters\n",
        "    chIndex  = 0    # index of the channel to be demodulated\n",
        "\n",
        "    freqGrid = paramTx.freqGrid\n",
        "    π  = np.pi\n",
        "    t  = np.arange(0, len(sigCh))*1/Fs\n",
        "\n",
        "    symbTx = symbTx_[:,:,chIndex]\n",
        "\n",
        "    # local oscillator (LO) parameters:\n",
        "    FO      = 60e6                  # frequency offset\n",
        "    Δf_lo   = freqGrid[chIndex]+FO  # downshift of the channel to be demodulated\n",
        "\n",
        "    # generate CW laser LO field\n",
        "    paramLO = parameters()\n",
        "    paramLO.P = 10              # power in dBm\n",
        "    paramLO.lw = 100e3          # laser linewidth\n",
        "    paramLO.RIN_var = 0\n",
        "    paramLO.Ns = len(sigCh)\n",
        "    paramLO.Fs = Fs\n",
        "\n",
        "    sigLO = basicLaserModel(paramLO)\n",
        "    sigLO = sigLO*np.exp(1j*2*π*Δf_lo*t) # add frequency offset\n",
        "\n",
        "    # polarization multiplexed coherent optical receiver\n",
        "    sigRx = pdmCoherentReceiver(sigCh, sigLO, θsig = 0)\n",
        "\n",
        "    # Rx filtering\n",
        "\n",
        "    # Matched filtering\n",
        "    if paramTx.pulse == 'nrz':\n",
        "        pulse = pulseShape('nrz', paramTx.SpS)\n",
        "    elif paramTx.pulse == 'rrc':\n",
        "        pulse = pulseShape('rrc', paramTx.SpS, N=paramTx.Ntaps, alpha=paramTx.alphaRRC, Ts=1/paramTx.Rs)\n",
        "\n",
        "    pulse = pnorm(pulse)\n",
        "    sigRx = firFilter(pulse, sigRx)\n",
        "\n",
        "    # decimation\n",
        "    paramDec = parameters()\n",
        "    paramDec.SpS_in  = paramTx.SpS\n",
        "    paramDec.SpS_out = 1\n",
        "    sigRx = decimate(sigRx, paramDec)\n",
        "\n",
        "    # compensa o desvio de frequência\n",
        "    sigRxFOE, indFO = fourthPower(sigRx, Fs)\n",
        "    sigRxFOE = pnorm(sigRxFOE)\n",
        "\n",
        "    # parâmetros para o BPS\n",
        "    paramCPR = parameters()\n",
        "    paramCPR.alg = 'bps'\n",
        "    paramCPR.M   = paramTx.M\n",
        "    paramCPR.constType = paramTx.constType\n",
        "    paramCPR.N   = 85\n",
        "    paramCPR.B   = 64\n",
        "    paramCPR.returnPhases = True\n",
        "\n",
        "    # obtém os símbolos da constelação\n",
        "    constSymb = grayMapping(paramTx.M, paramTx.constType)\n",
        "\n",
        "    # vetorização utilizando operações sequênciais\n",
        "    start = time.time()\n",
        "    y_CPR, phi = bpsVecGPU(sigRxFOE, constSymb, paramCPR.N, paramCPR.B)\n",
        "    end = time.time()\n",
        "    timeVectorized_sequential[indx] = end - start\n",
        "\n",
        "    # vetorização utilizando somas por meio de convoluções\n",
        "    start = time.time()\n",
        "    y_CPR, phi = bpsGPU(sigRxFOE, paramCPR.N, constSymb, paramCPR.B)\n",
        "    end = time.time()\n",
        "    timeVectorized_convolution[indx] = end - start\n",
        "\n",
        "    # BPS optiCommPy\n",
        "    start = time.time()\n",
        "    y_CPR, phi = cpr(sigRxFOE, paramCPR)\n",
        "    end = time.time()\n",
        "    timeNumba[indx] = end - start"
      ],
      "metadata": {
        "id": "rej0MzOkTuiY"
      },
      "execution_count": 21,
      "outputs": []
    },
    {
      "cell_type": "markdown",
      "source": [
        "## Avalie o tempo de execução em GPU"
      ],
      "metadata": {
        "id": "5TrSmmW_URVd"
      }
    },
    {
      "cell_type": "code",
      "source": [
        "signalLength = numberOfSymbols*paramTx.SpS\n",
        "\n",
        "plt.figure(figsize=(10, 4))\n",
        "plt.plot(signalLength, timeVectorized_sequential, '-o', linewidth=1.8, label='Sequential GPU')\n",
        "plt.plot(signalLength, timeVectorized_convolution, '-^', linewidth=1.8, label='Convolution GPU')\n",
        "plt.plot(signalLength, timeNumba, '-s', linewidth=1.8, label='Numba CPU')\n",
        "plt.xlabel('Length of the signal (number of samples)')\n",
        "plt.ylabel('Processing time (s)')\n",
        "plt.legend()\n",
        "plt.grid()\n",
        "plt.xlim(min(signalLength), max(signalLength));"
      ],
      "metadata": {
        "id": "9kUSpP3nT4n_",
        "outputId": "679deff5-8339-4510-d99f-019444f8f3f0",
        "colab": {
          "base_uri": "https://localhost:8080/",
          "height": 388
        }
      },
      "execution_count": 22,
      "outputs": [
        {
          "output_type": "display_data",
          "data": {
            "text/plain": [
              "<Figure size 1000x400 with 1 Axes>"
            ],
            "image/png": "[encoded data removed]"
          },
          "metadata": {}
        }
      ]
    },
    {
      "cell_type": "code",
      "source": [
        "%timeit y_CPR, phi = bpsVecGPU(sigRxFOE, constSymb, paramCPR.N, paramCPR.B)\n",
        "%timeit y_CPR, phi = bpsGPU(sigRxFOE, paramCPR.N, constSymb, paramCPR.B)"
      ],
      "metadata": {
        "id": "q6aP11pUU3H4",
        "outputId": "73f78925-7456-4d46-b514-ca12330748be",
        "colab": {
          "base_uri": "https://localhost:8080/"
        }
      },
      "execution_count": 23,
      "outputs": [
        {
          "output_type": "stream",
          "name": "stdout",
          "text": [
            "798 ms ± 2.1 ms per loop (mean ± std. dev. of 7 runs, 1 loop each)\n",
            "757 ms ± 1.63 ms per loop (mean ± std. dev. of 7 runs, 1 loop each)\n"
          ]
        }
      ]
    }
  ],
  "metadata": {
    "colab": {
      "name": "Olá, este é o Colaboratory",
      "toc_visible": true,
      "provenance": [],
      "gpuType": "T4"
    },
    "kernelspec": {
      "display_name": "Python 3",
      "name": "python3"
    },
    "accelerator": "GPU"
  },
  "nbformat": 4,
  "nbformat_minor": 0
}
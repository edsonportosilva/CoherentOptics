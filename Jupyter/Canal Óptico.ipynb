{
 "cells": [
  {
   "cell_type": "code",
   "execution_count": 1,
   "metadata": {},
   "outputs": [],
   "source": [
    "import numpy as np\n",
    "import matplotlib.pyplot as plt"
   ]
  },
  {
   "cell_type": "markdown",
   "metadata": {},
   "source": [
    "# Canal Óptico\n",
    "\n",
    "O canal de comunicação óptica é o resultado de diversas interações entre sinais ópticos e matéria. Esses efeitos podem ocorrer nas diversas seções de fibra óptica do link ou nos dispositivos atravessados pelo sinal óptico. \n",
    "\n",
    "O efeito mais fundamental para qualquer sistema de comunicação é atenuação, que reduz a potência do sinal ao longo do link como resultado de fenômenos de absorção e espalhamento. Devido à atenuação, os sinais transmitidos precisam ser amplificados periodicamente por amplificadores em linha, que inserem ruído e limitam o alcance do sistema.\n",
    "\n",
    "Neste notebook não iremos abordar todos esses efeitos, mas apenas aqueles mais significativos para a modelagem de sistemas ópticos digitais coerentes."
   ]
  },
  {
   "cell_type": "markdown",
   "metadata": {},
   "source": [
    "### 3.2 Chromatic Dispersion"
   ]
  },
  {
   "cell_type": "markdown",
   "metadata": {},
   "source": [
    "A dispersão do modo de polarização (*Polarization mode dispersion* - PMD) e a dispersão cromática (*Chromatic Dispersion* - CD) são dois efeitos lineares importantes que espalham símbolos ao longo do tempo e causam interferência. Eles geralmente são compensados no receptor usando usando tecnicas de processamento digital de sinais (DSP) Embora o PMD e o CD individualmente não limitem a capacidade, eles influenciam a complexidade do DSP do receptor, pois o CD pode exigir equalizadores estáticos muito longos e o PMD exige equalização adaptativa.\n",
    "\n",
    "Neste tópico estamos interessados em transmitir informações através de fibras ópticas. A informação é transmitida apenas por pacotes de frequências, formando um padrão que viaja pela fibra com velocidade de grupo $v_g$\n",
    "\n",
    "$$v_{g}=\\left({\\frac{d\\beta}{d\\omega}}\\right)^{-1}$$\n",
    "\n",
    "onde $\\beta$ é a constante de propagação. Outro conceito necessário para entendermos esse fenômeno é a velocidade de fase $v_p$ de um sinal senoidal com frequência $\\omega$ dado por\n",
    "\n",
    "$$\\ v_{p}={\\frac{\\omega}{\\beta}}$$\n",
    "\n",
    "Se a constante de propagação tiver uma dependência linear com a frequência, então $v_g = v_p$, qualquer grupo de frequências de propagação terá a mesma velocidade de grupo e os pulsos não serão distorcidos. É o caso, por exemplo, das ondas planas que viajam no espaço livre. Entretanto, em guias de onda práticos, a constante de propagação $\\beta$ tem uma dependência não linear de $\\omega$. Assim, diferentes componentes espectrais de um modo guiado se propagam com velocidades de grupo distintas, dando origem ao fenômeno conhecido como CD.\n",
    "\n",
    "Se não for compensado, o CD amplia os pulsos de propagação e leva à interferência intersimbólica (ISI), como mostrado na figura abaixo que demostra o efeito do CD na propagação do sinal. CD espalha os pulsos no tempo, levando à interferência intersimbólica (ISI)\n",
    "\n",
    "<br>\n",
    "<center>\n",
    "    <img src=\"https://i.postimg.cc/6pYm6pmx/Dispers-o.png\">\n",
    "</center>\n",
    "<br>\n",
    "\n",
    "Considerando um guia de ondas sem perdas, os componentes de um campo elétrico ou magnético de frequência $\\omega$ variam na direção de propagação no eixo $z$ de acordo com\n",
    "\n",
    "$$E(z,\\omega)=E(0,\\omega)e^{-j\\beta(\\omega)z}$$\n",
    "\n",
    "onde $\\beta(w)$ é a constante de propagação em $\\omega$. A mesma análise pode ser realizada para os componentes de frequência do espectro ${\\tilde{A}}\\left(z,\\,0\\right)$ do sinal $A(z, t)$, expandindo $\\beta(\\omega)$ na série de Taylor em torno da frequência angular da portadora $\\omega_c$\n",
    "\n",
    "$$\\tilde{A}(z,\\omega)=\\tilde{A}(0,\\omega)e^{-j\\beta(\\omega)z}$$\n",
    "$$\\tilde{A}(z,\\omega)=\\tilde{A}(0,\\omega)e^{-\\Big(j\\beta_{0}+j\\beta_{1}\\Delta\\omega+\\frac{j\\beta_{2}}{2}\\Delta\\omega^{2}+\\ldots\\Big)z}$$\n",
    "\n",
    "Onde $\\beta_i$ é a i-ésima derivada de $\\beta$ em relação a $\\omega$, e $\\Delta\\omega=\\omega-\\omega_{c}.$ O termo $e^{j\\beta_{0}z}$ é uma mudança de fase. A multiplicação por $e^{j\\beta_{1}\\Delta\\omega z}$ gera um deslocamento de tempo de um pulso não distorcido. \n",
    "\n",
    "A dispersão cromática está relacionada ao termo $e^{\\frac{\\beta_{2}}{2}\\Delta\\omega^{2}z}$. Para um observador viajando com o pulso, o espectro de um sinal corrompido por CD pode ser calculado como\n",
    "\n",
    "$$\\tilde{A}(z,\\omega)=\\tilde{A}(0,\\omega)e^{-\\frac{j\\beta_{2}z}{2}\\Delta\\omega^{2}}$$\n",
    "\n",
    "Podemos observar o efeito de disperção como um filtro passa tudo que modifica apenas a fase do nosso sinal, onde a amplitude e mantida constante.\n",
    "\n",
    "O parâmetro $\\beta_2$ tem unidades de s/m/[rad/s] e fornece a dispersão dos pulsos (em segundos) por unidade de comprimento de fibra (em metros) e por unidade de largura de banda espectral (em radianos por segundo). Na especificação de fibras ópticas, entretanto, a dispersão é geralmente quantificado pelo parâmetro de dispersão de velocidade de grupo (GVD), D, em unidades de s/m2, ou melhor, em ps/nm/km. O parâmetro GVD indica a propagação do pulso (em picossegundos), por unidade de distância (em quilômetros), por unidade de largura de banda espectral (em nanômetros)."
   ]
  },
  {
   "cell_type": "markdown",
   "metadata": {},
   "source": [
    "### "
   ]
  },
  {
   "cell_type": "code",
   "execution_count": null,
   "metadata": {},
   "outputs": [],
   "source": []
  }
 ],
 "metadata": {
  "kernelspec": {
   "display_name": "base",
   "language": "python",
   "name": "python3"
  },
  "language_info": {
   "codemirror_mode": {
    "name": "ipython",
    "version": 3
   },
   "file_extension": ".py",
   "mimetype": "text/x-python",
   "name": "python",
   "nbconvert_exporter": "python",
   "pygments_lexer": "ipython3",
   "version": "3.12.1"
  }
 },
 "nbformat": 4,
 "nbformat_minor": 2
}
